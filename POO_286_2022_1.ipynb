{
  "nbformat": 4,
  "nbformat_minor": 0,
  "metadata": {
    "colab": {
      "name": "POO-286-2022-1.ipynb",
      "provenance": [],
      "authorship_tag": "ABX9TyNSn/2W12xgARcNJVM2Sdd8",
      "include_colab_link": true
    },
    "kernelspec": {
      "name": "python3",
      "display_name": "Python 3"
    },
    "language_info": {
      "name": "python"
    }
  },
  "cells": [
    {
      "cell_type": "markdown",
      "metadata": {
        "id": "view-in-github",
        "colab_type": "text"
      },
      "source": [
        "<a href=\"https://colab.research.google.com/github/rogerio74/POO-286-2022.1/blob/main/POO_286_2022_1.ipynb\" target=\"_parent\"><img src=\"https://colab.research.google.com/assets/colab-badge.svg\" alt=\"Open In Colab\"/></a>"
      ]
    },
    {
      "cell_type": "code",
      "execution_count": null,
      "metadata": {
        "id": "Bhyn6TCRSQVa"
      },
      "outputs": [],
      "source": [
        ""
      ]
    },
    {
      "cell_type": "markdown",
      "source": [
        " LISTA DE EXERCÍCIOS (Postagens 1 e 2) \n",
        "1. Utilizando a linguagem python, implemente a classe carro de acordo com as especificações passadas na videoaula. \n",
        "\n",
        " Métodos: \n",
        "\n",
        "ligar() : este método deverá mudar o estado do carro para: “ligado” e imprimir este estado. \n",
        "\n",
        "Desligar(): este método deverá mudar o estado do carro para: “desligado” e o carro deve parar, para isto você deverá chamar o método parar(). Imprimir o estado do carro.\n",
        "\n",
        "Parar(): este método deverá mudar a velocidade atual do carro para 0 (zero). Imprimir a mensagem: “carro parado”. \n",
        "\n",
        "Acelerar(valor): este método deverá mudar a velocidade atual do carro para o valor que está no parâmetro. O carro só pode acelerar se ele estiver ligado (fazer a condição). Fazer a condição para que a velocidade atual não ultrapasse a velocidade máxima do carro. Imprimir a velocidade atual do carro. \n",
        "\n",
        "Crie 2 objetos do tipo carro. \n",
        "O primeiro objeto tem os seguintes valores:\n",
        "\n",
        "i. nome: fusca \n",
        "\n",
        "ii. Ano: 1965 \n",
        "\n",
        "iii. Cor: Preto \n",
        "\n",
        "iv. Veloc_max: 80 \n",
        "\n",
        "v. Veloc_.atual:20 \n",
        "\n",
        "vi. Estado: ligado \n",
        "\n",
        "\n",
        "O segundo objeto tem os seguintes valores: \n",
        "\n",
        "\n",
        "I. Nome: Ferrari_sr2000 \n",
        "\n",
        "II. Ano: 2014 \n",
        "\n",
        "III. Cor: vermelho \n",
        "\n",
        "IV. Veloc.max: 300 \n",
        "\n",
        "V. Veloc.atual: 0 \n",
        "\n",
        "VI. Estado: desligado \n",
        "\n",
        "\n",
        "\n",
        "Execute os objetos, invocando os métodos necessários de acordo como que se pede: \n",
        "\n",
        "a) Acelere o fusca para a velocidade: 40 \n",
        "\n",
        "b) Acelere a ferrari para a velocidade: 200 \n",
        "\n",
        "c) Desligue o fusca \n",
        "\n",
        "d) Ligue a ferrari \n",
        "\n",
        "e) acelere a ferrari para: 320 \n",
        "\n",
        "f) Pare a ferrari. \n",
        "\n",
        "g) Desligue a ferrari \n",
        "\n",
        "h) Ligue o fusca \n",
        "\n",
        "i) Acelere o fusca para: 100 \n",
        "\n",
        "j) Desligue o fusca\n"
      ],
      "metadata": {
        "id": "6UdKJZRM76nd"
      }
    },
    {
      "cell_type": "code",
      "source": [
        "from typing_extensions import ParamSpecKwargs\n",
        "class Carro:\n",
        "  # definição dos atributos\n",
        "  nome = None\n",
        "  ano = None\n",
        "  cor = None\n",
        "  veloc_max = None\n",
        "  veloc_atual = 0\n",
        "  estado = 'desligado'\n",
        "\n",
        "  def ligar(self):\n",
        "    self.estado = 'ligado'\n",
        "    print(f'Carro {self.nome}: {self.estado}')\n",
        "  \n",
        "  def desligar(self):\n",
        "    self.estado = 'desligado'\n",
        "    self.parar()\n",
        "    print(f'Carro {self.nome}: {self.estado}')\n",
        "  \n",
        "  def parar(self):\n",
        "    self.veloc_atual = 0\n",
        "    print(f'Carro {self.nome} parado')\n",
        "  \n",
        "  def acelerar(self,valor):\n",
        "    if self.estado == \"ligado\":\n",
        "      if valor > self.veloc_max:\n",
        "         self.veloc_atual = self.veloc_max\n",
        "      else:\n",
        "        self.veloc_atual = valor\n",
        "      print(f'carro {self.nome} esta andando a {self.veloc_atual} km/h')\n",
        "    else:\n",
        "      print (\"Carro desligado!\")\n",
        "\n",
        "\n",
        "  \n",
        "\n"
      ],
      "metadata": {
        "id": "VB46lHmGVDZi"
      },
      "execution_count": 37,
      "outputs": []
    },
    {
      "cell_type": "code",
      "source": [
        "fusca = Carro() # criar o objeto de nome fusca\n",
        "fusca.nome = \"fusca\"\n",
        "fusca.ano = 1965\n",
        "fusca.cor = \"preto\"\n",
        "fusca.veloc_max = 80\n",
        "fusca.ligar()\n",
        "fusca.acelerar(20)\n",
        "\n",
        "ferrari = Carro()\n",
        "ferrari.nome = \"Ferrari_sr2000\"\n",
        "ferrari.ano = 2014\n",
        "ferrari.cor = \"vermelho\"\n",
        "ferrari.veloc_max = 300\n",
        "\n",
        "# executar os métodos\n",
        "#a)\n",
        "fusca.acelerar(40)\n",
        "#b)\n",
        "ferrari.acelerar(200)\n",
        "#c)\n",
        "fusca.desligar()\n",
        "#d)\n",
        "ferrari.ligar()\n",
        "#e)\n",
        "ferrari.acelerar(320)\n",
        "#f)\n",
        "ferrari.parar()\n",
        "#g)\n",
        "ferrari.desligar()\n",
        "#h)\n",
        "fusca.ligar()\n",
        "#i)\n",
        "fusca.acelerar(100)\n",
        "#j)\n",
        "fusca.desligar()\n",
        "\n",
        "\n"
      ],
      "metadata": {
        "colab": {
          "base_uri": "https://localhost:8080/"
        },
        "id": "zkf4v3eWbjHi",
        "outputId": "16d0bb06-323b-4c47-fc4d-a1469dc1df6e"
      },
      "execution_count": 39,
      "outputs": [
        {
          "output_type": "stream",
          "name": "stdout",
          "text": [
            "Carro fusca: ligado\n",
            "carro fusca esta andando a 20 km/h\n",
            "carro fusca esta andando a 40 km/h\n",
            "Carro desligado!\n",
            "Carro fusca parado\n",
            "Carro fusca: desligado\n",
            "Carro Ferrari_sr2000: ligado\n",
            "carro Ferrari_sr2000 esta andando a 300 km/h\n",
            "Carro Ferrari_sr2000 parado\n",
            "Carro Ferrari_sr2000 parado\n",
            "Carro Ferrari_sr2000: desligado\n",
            "Carro fusca: ligado\n",
            "carro fusca esta andando a 80 km/h\n",
            "Carro fusca parado\n",
            "Carro fusca: desligado\n"
          ]
        }
      ]
    }
  ]
}